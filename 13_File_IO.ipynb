{
 "cells": [
  {
   "cell_type": "markdown",
   "metadata": {},
   "source": [
    "# File I/O\n",
    "- Definition\n",
    "- Opening file using various modes\n",
    "- Read/Write operations on file\n",
    "- Tell and Seek operations\n",
    "- Some OS related operations\n",
    "- Exercise"
   ]
  },
  {
   "cell_type": "code",
   "execution_count": 1,
   "metadata": {},
   "outputs": [],
   "source": [
    "# Syntax:\n",
    "# open(<fileName>,<mode>,<encoding>)\n",
    "# filename: full path of file with extension\n",
    "# mode:\n",
    "#     r:read only(default): File must be present\n",
    "#     w:write only: File will be created\n",
    "#     a:append only: File will be created if not existing, if exist then start appending new data at the end\n",
    "#     r+,w+,a+: read/write/append both can be done respectively\n",
    "#     rb,wb,ab,rb+,wb+,ab+: Above operations on binary/byte mode"
   ]
  },
  {
   "cell_type": "code",
   "execution_count": 9,
   "metadata": {},
   "outputs": [],
   "source": [
    "fh = open(\"test1.txt\",\"r\")\n",
    "# fh = open(\"test1.txt\")\n",
    "# fh = open(\"/Users/vigneshkarthick/Downloads/15_Dec/drive-download-20191215T0330/test1.txt\",\"r\")\n",
    "# fh = open(\"C:\\\\test1.txt\")\n",
    "# fh = open(\"C:/test1.txt\")\n",
    "# fh = open(r\"C:\\test1.txt\")"
   ]
  },
  {
   "cell_type": "code",
   "execution_count": 4,
   "metadata": {},
   "outputs": [
    {
     "name": "stdout",
     "output_type": "stream",
     "text": [
      "<_io.TextIOWrapper name='test1.txt' mode='r' encoding='UTF-8'>\n"
     ]
    }
   ],
   "source": [
    "print(fh)"
   ]
  },
  {
   "cell_type": "code",
   "execution_count": 27,
   "metadata": {},
   "outputs": [
    {
     "name": "stdout",
     "output_type": "stream",
     "text": [
      "['This is line1\\n', 'This is line2\\n', 'This is line3\\n', 'This is line4\\n', 'This is line5']\n"
     ]
    }
   ],
   "source": [
    "fh = open(\"test1.txt\",\"r\")\n",
    "# print(fh.read()) # will read whole file in one go\n",
    "# print(fh.read(2)) # will read <number> bytes in one go\n",
    "# print(fh.readline()) # will read one line in one go\n",
    "print(fh.readlines()) # will read all the lines in one go and print as a list if lines"
   ]
  },
  {
   "cell_type": "code",
   "execution_count": 28,
   "metadata": {},
   "outputs": [],
   "source": [
    "fh = open(\"test1.txt\",\"r\")"
   ]
  },
  {
   "cell_type": "code",
   "execution_count": 42,
   "metadata": {},
   "outputs": [
    {
     "name": "stdout",
     "output_type": "stream",
     "text": [
      "2\n",
      "\n"
     ]
    }
   ],
   "source": [
    "print(fh.read(2)) # will read <number> bytes in one go"
   ]
  },
  {
   "cell_type": "markdown",
   "metadata": {},
   "source": [
    "# Tell and seek function"
   ]
  },
  {
   "cell_type": "code",
   "execution_count": 44,
   "metadata": {},
   "outputs": [
    {
     "name": "stdout",
     "output_type": "stream",
     "text": [
      "Th\n",
      "2\n",
      "is\n",
      "4\n",
      " i\n",
      "6\n"
     ]
    }
   ],
   "source": [
    "fh = open(\"test1.txt\",\"r\")\n",
    "print(fh.read(2))\n",
    "print(fh.tell())\n",
    "print(fh.read(2))\n",
    "print(fh.tell())\n",
    "print(fh.read(2))\n",
    "print(fh.tell())"
   ]
  },
  {
   "cell_type": "code",
   "execution_count": 45,
   "metadata": {},
   "outputs": [
    {
     "name": "stdout",
     "output_type": "stream",
     "text": [
      "This is line1\n",
      "This is line2\n",
      "This is line3\n",
      "This is line4\n",
      "This is line5\n",
      "69\n"
     ]
    }
   ],
   "source": [
    "fh = open(\"test1.txt\",\"r\")\n",
    "print(fh.read())\n",
    "print(fh.tell())"
   ]
  },
  {
   "cell_type": "markdown",
   "metadata": {},
   "source": [
    "# seek"
   ]
  },
  {
   "cell_type": "code",
   "execution_count": null,
   "metadata": {},
   "outputs": [],
   "source": [
    "# seek(<offset>,<pointer_position>)\n",
    "# offset: Number of characters to be skipped\n",
    "# pointer_position: \n",
    "#     0: starting of file (default)\n",
    "#     1: current position\n",
    "#     2: from the end"
   ]
  },
  {
   "cell_type": "code",
   "execution_count": 48,
   "metadata": {},
   "outputs": [
    {
     "name": "stdout",
     "output_type": "stream",
     "text": [
      "Thi\n",
      "3\n",
      "Thi\n",
      "3\n",
      "Thi\n",
      "3\n",
      "Thi\n"
     ]
    }
   ],
   "source": [
    "fh = open(\"test1.txt\")\n",
    "print(fh.read(3))\n",
    "print(fh.tell())\n",
    "fh.seek(0)\n",
    "print(fh.read(3))\n",
    "print(fh.tell())\n",
    "fh.seek(0)\n",
    "print(fh.read(3))\n",
    "print(fh.tell())\n",
    "fh.seek(0)\n",
    "print(fh.read(3))"
   ]
  },
  {
   "cell_type": "code",
   "execution_count": 50,
   "metadata": {},
   "outputs": [
    {
     "name": "stdout",
     "output_type": "stream",
     "text": [
      "Thi\n",
      "3\n",
      "is li\n"
     ]
    }
   ],
   "source": [
    "fh = open(\"test1.txt\")\n",
    "print(fh.read(3))\n",
    "print(fh.tell())\n",
    "fh.seek(5)\n",
    "print(fh.read(5))"
   ]
  },
  {
   "cell_type": "markdown",
   "metadata": {},
   "source": [
    "# using pointer position==1"
   ]
  },
  {
   "cell_type": "code",
   "execution_count": 52,
   "metadata": {},
   "outputs": [
    {
     "name": "stdout",
     "output_type": "stream",
     "text": [
      "b'Thi'\n",
      "3\n",
      "b'line1'\n"
     ]
    }
   ],
   "source": [
    "fh = open(\"test1.txt\",\"rb\")\n",
    "print(fh.read(3))\n",
    "print(fh.tell())\n",
    "fh.seek(5,1)\n",
    "print(fh.read(5))"
   ]
  },
  {
   "cell_type": "code",
   "execution_count": 54,
   "metadata": {},
   "outputs": [
    {
     "name": "stdout",
     "output_type": "stream",
     "text": [
      "b'This is '\n",
      "8\n",
      "b'is li'\n",
      "10\n"
     ]
    }
   ],
   "source": [
    "fh = open(\"test1.txt\",\"rb\")\n",
    "print(fh.read(8))\n",
    "print(fh.tell())\n",
    "fh.seek(-3,1)\n",
    "print(fh.read(5))\n",
    "print(fh.tell())"
   ]
  },
  {
   "cell_type": "markdown",
   "metadata": {},
   "source": [
    "# using pointer position==2"
   ]
  },
  {
   "cell_type": "code",
   "execution_count": 56,
   "metadata": {},
   "outputs": [
    {
     "name": "stdout",
     "output_type": "stream",
     "text": [
      "b'This is line1\\nThis is line2\\nThis is line3\\nThis is line4\\nThis is line5'\n",
      "69\n",
      "b's is '\n"
     ]
    }
   ],
   "source": [
    "fh = open(\"test1.txt\",\"rb\")\n",
    "print(fh.read())\n",
    "print(fh.tell())\n",
    "fh.seek(-10,2)\n",
    "print(fh.read(5))"
   ]
  },
  {
   "cell_type": "markdown",
   "metadata": {},
   "source": [
    "# Write operation"
   ]
  },
  {
   "cell_type": "code",
   "execution_count": 59,
   "metadata": {},
   "outputs": [
    {
     "name": "stdout",
     "output_type": "stream",
     "text": [
      "\u001b[31m13_File_IO.ipynb\u001b[m\u001b[m           test1.txt\r\n",
      "\u001b[31m14_RegularExpression.ipynb\u001b[m\u001b[m test2.txt\r\n",
      "Regular_Expression.pptx\r\n"
     ]
    }
   ],
   "source": [
    "!ls"
   ]
  },
  {
   "cell_type": "code",
   "execution_count": 61,
   "metadata": {},
   "outputs": [],
   "source": [
    "fh = open(\"test2.txt\",\"w\")"
   ]
  },
  {
   "cell_type": "code",
   "execution_count": 60,
   "metadata": {},
   "outputs": [],
   "source": [
    "fh.write(\"This is line1\")\n",
    "fh.write(\"This is line2\")\n",
    "fh.close()"
   ]
  },
  {
   "cell_type": "code",
   "execution_count": 62,
   "metadata": {},
   "outputs": [],
   "source": [
    "fh.write(\"This is line1\\n\")\n",
    "fh.write(\"This is line2\\n\")\n",
    "fh.close()"
   ]
  },
  {
   "cell_type": "markdown",
   "metadata": {},
   "source": [
    "## writing to csv file"
   ]
  },
  {
   "cell_type": "code",
   "execution_count": 63,
   "metadata": {},
   "outputs": [],
   "source": [
    "fh = open(\"test_csv.csv\",\"w\")"
   ]
  },
  {
   "cell_type": "code",
   "execution_count": 64,
   "metadata": {},
   "outputs": [],
   "source": [
    "fh.write(\"A,B,C\\n\")\n",
    "fh.write(\"1,2,3\\n\")\n",
    "fh.write(\"4,5,6\\n\")\n",
    "fh.close()"
   ]
  },
  {
   "cell_type": "markdown",
   "metadata": {},
   "source": [
    "# file handle using with"
   ]
  },
  {
   "cell_type": "code",
   "execution_count": 66,
   "metadata": {},
   "outputs": [],
   "source": [
    "with open(\"test3.txt\",\"w\") as fh:\n",
    "    fh.write(\"line1\\n\")\n",
    "    fh.write(\"line2\\n\")"
   ]
  },
  {
   "cell_type": "markdown",
   "metadata": {},
   "source": [
    "#### To check file close attribute"
   ]
  },
  {
   "cell_type": "code",
   "execution_count": 67,
   "metadata": {},
   "outputs": [
    {
     "name": "stdout",
     "output_type": "stream",
     "text": [
      "False\n",
      "True\n"
     ]
    }
   ],
   "source": [
    "with open(\"test3.txt\",\"w\") as fh:\n",
    "    fh.write(\"line1\\n\")\n",
    "    fh.write(\"line2\\n\")\n",
    "    print(fh.closed)\n",
    "print(fh.closed)"
   ]
  },
  {
   "cell_type": "markdown",
   "metadata": {},
   "source": [
    "## How to iterate over lines using for loop"
   ]
  },
  {
   "cell_type": "code",
   "execution_count": 69,
   "metadata": {},
   "outputs": [
    {
     "name": "stdout",
     "output_type": "stream",
     "text": [
      "This is line1\n",
      "\n",
      "This is line2\n",
      "\n",
      "This is line3\n",
      "\n",
      "This is line4\n",
      "\n",
      "This is line5\n"
     ]
    }
   ],
   "source": [
    "fh = open(\"test1.txt\")\n",
    "for line in fh:\n",
    "    print(line)"
   ]
  },
  {
   "cell_type": "markdown",
   "metadata": {},
   "source": [
    "## To see other file attributes"
   ]
  },
  {
   "cell_type": "code",
   "execution_count": 72,
   "metadata": {},
   "outputs": [
    {
     "name": "stdout",
     "output_type": "stream",
     "text": [
      "This is line1\n",
      " r test1.txt UTF-8\n"
     ]
    }
   ],
   "source": [
    "fh = open(\"test1.txt\")\n",
    "for line in fh:\n",
    "    print(line,fh.mode,fh.name,fh.encoding)\n",
    "    break"
   ]
  },
  {
   "cell_type": "markdown",
   "metadata": {},
   "source": [
    "# Some os related functions"
   ]
  },
  {
   "cell_type": "code",
   "execution_count": 73,
   "metadata": {},
   "outputs": [],
   "source": [
    "import os"
   ]
  },
  {
   "cell_type": "code",
   "execution_count": 76,
   "metadata": {},
   "outputs": [
    {
     "data": {
      "text/plain": [
       "'/Users/vigneshkarthick/Downloads/15_Dec/drive-download-20191215T033030Z-001'"
      ]
     },
     "execution_count": 76,
     "metadata": {},
     "output_type": "execute_result"
    }
   ],
   "source": [
    "os.getcwd()"
   ]
  },
  {
   "cell_type": "code",
   "execution_count": 77,
   "metadata": {},
   "outputs": [],
   "source": [
    "os.chdir(\"/users\")"
   ]
  },
  {
   "cell_type": "code",
   "execution_count": 78,
   "metadata": {},
   "outputs": [
    {
     "data": {
      "text/plain": [
       "'/Users'"
      ]
     },
     "execution_count": 78,
     "metadata": {},
     "output_type": "execute_result"
    }
   ],
   "source": [
    "os.getcwd()"
   ]
  },
  {
   "cell_type": "code",
   "execution_count": 79,
   "metadata": {},
   "outputs": [],
   "source": [
    "os.chdir(\"/Users/vigneshkarthick/Downloads/15_Dec/drive-download-20191215T033030Z-001\")"
   ]
  },
  {
   "cell_type": "code",
   "execution_count": 80,
   "metadata": {},
   "outputs": [
    {
     "data": {
      "text/plain": [
       "'/Users/vigneshkarthick/Downloads/15_Dec/drive-download-20191215T033030Z-001'"
      ]
     },
     "execution_count": 80,
     "metadata": {},
     "output_type": "execute_result"
    }
   ],
   "source": [
    "os.getcwd()"
   ]
  },
  {
   "cell_type": "code",
   "execution_count": 81,
   "metadata": {},
   "outputs": [],
   "source": [
    "os.mkdir(\"testDir\")"
   ]
  },
  {
   "cell_type": "code",
   "execution_count": 86,
   "metadata": {},
   "outputs": [
    {
     "name": "stdout",
     "output_type": "stream",
     "text": [
      "total 208\r\n",
      "drwx------@ 11 vigneshkarthick  staff    352 Dec 15 09:59 \u001b[34m.\u001b[m\u001b[m\r\n",
      "drwxr-xr-x   5 vigneshkarthick  staff    160 Dec 15 09:02 \u001b[34m..\u001b[m\u001b[m\r\n",
      "-rw-r--r--@  1 vigneshkarthick  staff   6148 Dec 15 09:02 .DS_Store\r\n",
      "drwxr-xr-x   3 vigneshkarthick  staff     96 Dec 15 09:05 \u001b[34m.ipynb_checkpoints\u001b[m\u001b[m\r\n",
      "-rwxr-xr-x@  1 vigneshkarthick  staff  13657 Dec 15 09:59 \u001b[31m13_File_IO.ipynb\u001b[m\u001b[m\r\n",
      "-rwxr-xr-x@  1 vigneshkarthick  staff   1811 Jul 25 00:48 \u001b[31m14_RegularExpression.ipynb\u001b[m\u001b[m\r\n",
      "-rw-r--r--@  1 vigneshkarthick  staff  58945 Dec 15 09:02 Regular_Expression.pptx\r\n",
      "-rw-r--r--   1 vigneshkarthick  staff     69 Dec 15 09:23 test1.txt\r\n",
      "-rw-r--r--   1 vigneshkarthick  staff     28 Dec 15 09:45 test2.txt\r\n",
      "-rw-r--r--   1 vigneshkarthick  staff     12 Dec 15 09:50 test3.txt\r\n",
      "-rw-r--r--@  1 vigneshkarthick  staff     18 Dec 15 09:46 test_csv.csv\r\n"
     ]
    }
   ],
   "source": [
    "!ls -al"
   ]
  },
  {
   "cell_type": "code",
   "execution_count": 83,
   "metadata": {},
   "outputs": [],
   "source": [
    "os.rmdir(\"testDir\")"
   ]
  },
  {
   "cell_type": "code",
   "execution_count": 84,
   "metadata": {},
   "outputs": [
    {
     "name": "stdout",
     "output_type": "stream",
     "text": [
      "\u001b[31m13_File_IO.ipynb\u001b[m\u001b[m           test2.txt\r\n",
      "\u001b[31m14_RegularExpression.ipynb\u001b[m\u001b[m test3.txt\r\n",
      "Regular_Expression.pptx    test_csv.csv\r\n",
      "test1.txt\r\n"
     ]
    }
   ],
   "source": [
    "!ls"
   ]
  },
  {
   "cell_type": "markdown",
   "metadata": {},
   "source": [
    "# Open the file and print only those lines which is non-empty. Later print those lines which is ending with even numbers"
   ]
  },
  {
   "cell_type": "code",
   "execution_count": 94,
   "metadata": {},
   "outputs": [
    {
     "name": "stdout",
     "output_type": "stream",
     "text": [
      "This is line2\n",
      "\n",
      "This is line4\n",
      "\n",
      "This is line6\n",
      "\n",
      "This is line8\n",
      "\n"
     ]
    }
   ],
   "source": [
    "fh = open(\"test4.txt\")\n",
    "for line in fh:\n",
    "    if line != \"\\n\":\n",
    "        if int(line[-2])%2 == 0:\n",
    "            print(line)"
   ]
  }
 ],
 "metadata": {
  "kernelspec": {
   "display_name": "Python 3",
   "language": "python",
   "name": "python3"
  },
  "language_info": {
   "codemirror_mode": {
    "name": "ipython",
    "version": 3
   },
   "file_extension": ".py",
   "mimetype": "text/x-python",
   "name": "python",
   "nbconvert_exporter": "python",
   "pygments_lexer": "ipython3",
   "version": "3.7.3"
  }
 },
 "nbformat": 4,
 "nbformat_minor": 2
}
